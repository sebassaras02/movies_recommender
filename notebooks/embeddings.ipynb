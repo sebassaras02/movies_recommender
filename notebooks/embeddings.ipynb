{
 "cells": [
  {
   "cell_type": "markdown",
   "metadata": {},
   "source": [
    "# Project to show knowledge in Vector Databases\n",
    "\n",
    "Done by: Sebastián Sarasti\n",
    "\n",
    "Goal: Create a recommendation system based on movies description and filters"
   ]
  },
  {
   "cell_type": "code",
   "execution_count": 1,
   "metadata": {},
   "outputs": [],
   "source": [
    "import numpy as np\n",
    "import pandas as pd"
   ]
  },
  {
   "cell_type": "markdown",
   "metadata": {},
   "source": [
    "Load data"
   ]
  },
  {
   "cell_type": "code",
   "execution_count": 2,
   "metadata": {},
   "outputs": [],
   "source": [
    "df = pd.read_csv(\"../data/books.csv\")"
   ]
  },
  {
   "cell_type": "markdown",
   "metadata": {},
   "source": [
    "# EDA"
   ]
  },
  {
   "cell_type": "markdown",
   "metadata": {},
   "source": [
    "See what we have in the DF"
   ]
  },
  {
   "cell_type": "code",
   "execution_count": 3,
   "metadata": {},
   "outputs": [
    {
     "data": {
      "text/html": [
       "<div>\n",
       "<style scoped>\n",
       "    .dataframe tbody tr th:only-of-type {\n",
       "        vertical-align: middle;\n",
       "    }\n",
       "\n",
       "    .dataframe tbody tr th {\n",
       "        vertical-align: top;\n",
       "    }\n",
       "\n",
       "    .dataframe thead th {\n",
       "        text-align: right;\n",
       "    }\n",
       "</style>\n",
       "<table border=\"1\" class=\"dataframe\">\n",
       "  <thead>\n",
       "    <tr style=\"text-align: right;\">\n",
       "      <th></th>\n",
       "      <th>isbn13</th>\n",
       "      <th>isbn10</th>\n",
       "      <th>title</th>\n",
       "      <th>subtitle</th>\n",
       "      <th>authors</th>\n",
       "      <th>categories</th>\n",
       "      <th>thumbnail</th>\n",
       "      <th>description</th>\n",
       "      <th>published_year</th>\n",
       "      <th>average_rating</th>\n",
       "      <th>num_pages</th>\n",
       "      <th>ratings_count</th>\n",
       "    </tr>\n",
       "  </thead>\n",
       "  <tbody>\n",
       "    <tr>\n",
       "      <th>0</th>\n",
       "      <td>9780002005883</td>\n",
       "      <td>0002005883</td>\n",
       "      <td>Gilead</td>\n",
       "      <td>NaN</td>\n",
       "      <td>Marilynne Robinson</td>\n",
       "      <td>Fiction</td>\n",
       "      <td>http://books.google.com/books/content?id=KQZCP...</td>\n",
       "      <td>A NOVEL THAT READERS and critics have been eag...</td>\n",
       "      <td>2004.0</td>\n",
       "      <td>3.85</td>\n",
       "      <td>247.0</td>\n",
       "      <td>361.0</td>\n",
       "    </tr>\n",
       "    <tr>\n",
       "      <th>1</th>\n",
       "      <td>9780002261982</td>\n",
       "      <td>0002261987</td>\n",
       "      <td>Spider's Web</td>\n",
       "      <td>A Novel</td>\n",
       "      <td>Charles Osborne;Agatha Christie</td>\n",
       "      <td>Detective and mystery stories</td>\n",
       "      <td>http://books.google.com/books/content?id=gA5GP...</td>\n",
       "      <td>A new 'Christie for Christmas' -- a full-lengt...</td>\n",
       "      <td>2000.0</td>\n",
       "      <td>3.83</td>\n",
       "      <td>241.0</td>\n",
       "      <td>5164.0</td>\n",
       "    </tr>\n",
       "    <tr>\n",
       "      <th>2</th>\n",
       "      <td>9780006163831</td>\n",
       "      <td>0006163831</td>\n",
       "      <td>The One Tree</td>\n",
       "      <td>NaN</td>\n",
       "      <td>Stephen R. Donaldson</td>\n",
       "      <td>American fiction</td>\n",
       "      <td>http://books.google.com/books/content?id=OmQaw...</td>\n",
       "      <td>Volume Two of Stephen Donaldson's acclaimed se...</td>\n",
       "      <td>1982.0</td>\n",
       "      <td>3.97</td>\n",
       "      <td>479.0</td>\n",
       "      <td>172.0</td>\n",
       "    </tr>\n",
       "    <tr>\n",
       "      <th>3</th>\n",
       "      <td>9780006178736</td>\n",
       "      <td>0006178731</td>\n",
       "      <td>Rage of angels</td>\n",
       "      <td>NaN</td>\n",
       "      <td>Sidney Sheldon</td>\n",
       "      <td>Fiction</td>\n",
       "      <td>http://books.google.com/books/content?id=FKo2T...</td>\n",
       "      <td>A memorable, mesmerizing heroine Jennifer -- b...</td>\n",
       "      <td>1993.0</td>\n",
       "      <td>3.93</td>\n",
       "      <td>512.0</td>\n",
       "      <td>29532.0</td>\n",
       "    </tr>\n",
       "    <tr>\n",
       "      <th>4</th>\n",
       "      <td>9780006280897</td>\n",
       "      <td>0006280897</td>\n",
       "      <td>The Four Loves</td>\n",
       "      <td>NaN</td>\n",
       "      <td>Clive Staples Lewis</td>\n",
       "      <td>Christian life</td>\n",
       "      <td>http://books.google.com/books/content?id=XhQ5X...</td>\n",
       "      <td>Lewis' work on the nature of love divides love...</td>\n",
       "      <td>2002.0</td>\n",
       "      <td>4.15</td>\n",
       "      <td>170.0</td>\n",
       "      <td>33684.0</td>\n",
       "    </tr>\n",
       "  </tbody>\n",
       "</table>\n",
       "</div>"
      ],
      "text/plain": [
       "          isbn13      isbn10           title subtitle  \\\n",
       "0  9780002005883  0002005883          Gilead      NaN   \n",
       "1  9780002261982  0002261987    Spider's Web  A Novel   \n",
       "2  9780006163831  0006163831    The One Tree      NaN   \n",
       "3  9780006178736  0006178731  Rage of angels      NaN   \n",
       "4  9780006280897  0006280897  The Four Loves      NaN   \n",
       "\n",
       "                           authors                     categories  \\\n",
       "0               Marilynne Robinson                        Fiction   \n",
       "1  Charles Osborne;Agatha Christie  Detective and mystery stories   \n",
       "2             Stephen R. Donaldson               American fiction   \n",
       "3                   Sidney Sheldon                        Fiction   \n",
       "4              Clive Staples Lewis                 Christian life   \n",
       "\n",
       "                                           thumbnail  \\\n",
       "0  http://books.google.com/books/content?id=KQZCP...   \n",
       "1  http://books.google.com/books/content?id=gA5GP...   \n",
       "2  http://books.google.com/books/content?id=OmQaw...   \n",
       "3  http://books.google.com/books/content?id=FKo2T...   \n",
       "4  http://books.google.com/books/content?id=XhQ5X...   \n",
       "\n",
       "                                         description  published_year  \\\n",
       "0  A NOVEL THAT READERS and critics have been eag...          2004.0   \n",
       "1  A new 'Christie for Christmas' -- a full-lengt...          2000.0   \n",
       "2  Volume Two of Stephen Donaldson's acclaimed se...          1982.0   \n",
       "3  A memorable, mesmerizing heroine Jennifer -- b...          1993.0   \n",
       "4  Lewis' work on the nature of love divides love...          2002.0   \n",
       "\n",
       "   average_rating  num_pages  ratings_count  \n",
       "0            3.85      247.0          361.0  \n",
       "1            3.83      241.0         5164.0  \n",
       "2            3.97      479.0          172.0  \n",
       "3            3.93      512.0        29532.0  \n",
       "4            4.15      170.0        33684.0  "
      ]
     },
     "execution_count": 3,
     "metadata": {},
     "output_type": "execute_result"
    }
   ],
   "source": [
    "df.head()"
   ]
  },
  {
   "cell_type": "markdown",
   "metadata": {},
   "source": [
    "See properties of the DF"
   ]
  },
  {
   "cell_type": "code",
   "execution_count": 4,
   "metadata": {},
   "outputs": [
    {
     "name": "stdout",
     "output_type": "stream",
     "text": [
      "<class 'pandas.core.frame.DataFrame'>\n",
      "RangeIndex: 6810 entries, 0 to 6809\n",
      "Data columns (total 12 columns):\n",
      " #   Column          Non-Null Count  Dtype  \n",
      "---  ------          --------------  -----  \n",
      " 0   isbn13          6810 non-null   int64  \n",
      " 1   isbn10          6810 non-null   object \n",
      " 2   title           6810 non-null   object \n",
      " 3   subtitle        2381 non-null   object \n",
      " 4   authors         6738 non-null   object \n",
      " 5   categories      6711 non-null   object \n",
      " 6   thumbnail       6481 non-null   object \n",
      " 7   description     6548 non-null   object \n",
      " 8   published_year  6804 non-null   float64\n",
      " 9   average_rating  6767 non-null   float64\n",
      " 10  num_pages       6767 non-null   float64\n",
      " 11  ratings_count   6767 non-null   float64\n",
      "dtypes: float64(4), int64(1), object(7)\n",
      "memory usage: 638.6+ KB\n"
     ]
    }
   ],
   "source": [
    "df.info()"
   ]
  },
  {
   "cell_type": "code",
   "execution_count": 5,
   "metadata": {},
   "outputs": [
    {
     "data": {
      "text/html": [
       "<div>\n",
       "<style scoped>\n",
       "    .dataframe tbody tr th:only-of-type {\n",
       "        vertical-align: middle;\n",
       "    }\n",
       "\n",
       "    .dataframe tbody tr th {\n",
       "        vertical-align: top;\n",
       "    }\n",
       "\n",
       "    .dataframe thead th {\n",
       "        text-align: right;\n",
       "    }\n",
       "</style>\n",
       "<table border=\"1\" class=\"dataframe\">\n",
       "  <thead>\n",
       "    <tr style=\"text-align: right;\">\n",
       "      <th></th>\n",
       "      <th>isbn13</th>\n",
       "      <th>published_year</th>\n",
       "      <th>average_rating</th>\n",
       "      <th>num_pages</th>\n",
       "      <th>ratings_count</th>\n",
       "    </tr>\n",
       "  </thead>\n",
       "  <tbody>\n",
       "    <tr>\n",
       "      <th>count</th>\n",
       "      <td>6.810000e+03</td>\n",
       "      <td>6804.000000</td>\n",
       "      <td>6767.000000</td>\n",
       "      <td>6767.000000</td>\n",
       "      <td>6.767000e+03</td>\n",
       "    </tr>\n",
       "    <tr>\n",
       "      <th>mean</th>\n",
       "      <td>9.780677e+12</td>\n",
       "      <td>1998.630364</td>\n",
       "      <td>3.933284</td>\n",
       "      <td>348.181026</td>\n",
       "      <td>2.106910e+04</td>\n",
       "    </tr>\n",
       "    <tr>\n",
       "      <th>std</th>\n",
       "      <td>6.068911e+08</td>\n",
       "      <td>10.484257</td>\n",
       "      <td>0.331352</td>\n",
       "      <td>242.376783</td>\n",
       "      <td>1.376207e+05</td>\n",
       "    </tr>\n",
       "    <tr>\n",
       "      <th>min</th>\n",
       "      <td>9.780002e+12</td>\n",
       "      <td>1853.000000</td>\n",
       "      <td>0.000000</td>\n",
       "      <td>0.000000</td>\n",
       "      <td>0.000000e+00</td>\n",
       "    </tr>\n",
       "    <tr>\n",
       "      <th>25%</th>\n",
       "      <td>9.780330e+12</td>\n",
       "      <td>1996.000000</td>\n",
       "      <td>3.770000</td>\n",
       "      <td>208.000000</td>\n",
       "      <td>1.590000e+02</td>\n",
       "    </tr>\n",
       "    <tr>\n",
       "      <th>50%</th>\n",
       "      <td>9.780553e+12</td>\n",
       "      <td>2002.000000</td>\n",
       "      <td>3.960000</td>\n",
       "      <td>304.000000</td>\n",
       "      <td>1.018000e+03</td>\n",
       "    </tr>\n",
       "    <tr>\n",
       "      <th>75%</th>\n",
       "      <td>9.780810e+12</td>\n",
       "      <td>2005.000000</td>\n",
       "      <td>4.130000</td>\n",
       "      <td>420.000000</td>\n",
       "      <td>5.992500e+03</td>\n",
       "    </tr>\n",
       "    <tr>\n",
       "      <th>max</th>\n",
       "      <td>9.789042e+12</td>\n",
       "      <td>2019.000000</td>\n",
       "      <td>5.000000</td>\n",
       "      <td>3342.000000</td>\n",
       "      <td>5.629932e+06</td>\n",
       "    </tr>\n",
       "  </tbody>\n",
       "</table>\n",
       "</div>"
      ],
      "text/plain": [
       "             isbn13  published_year  average_rating    num_pages  \\\n",
       "count  6.810000e+03     6804.000000     6767.000000  6767.000000   \n",
       "mean   9.780677e+12     1998.630364        3.933284   348.181026   \n",
       "std    6.068911e+08       10.484257        0.331352   242.376783   \n",
       "min    9.780002e+12     1853.000000        0.000000     0.000000   \n",
       "25%    9.780330e+12     1996.000000        3.770000   208.000000   \n",
       "50%    9.780553e+12     2002.000000        3.960000   304.000000   \n",
       "75%    9.780810e+12     2005.000000        4.130000   420.000000   \n",
       "max    9.789042e+12     2019.000000        5.000000  3342.000000   \n",
       "\n",
       "       ratings_count  \n",
       "count   6.767000e+03  \n",
       "mean    2.106910e+04  \n",
       "std     1.376207e+05  \n",
       "min     0.000000e+00  \n",
       "25%     1.590000e+02  \n",
       "50%     1.018000e+03  \n",
       "75%     5.992500e+03  \n",
       "max     5.629932e+06  "
      ]
     },
     "execution_count": 5,
     "metadata": {},
     "output_type": "execute_result"
    }
   ],
   "source": [
    "df.describe()"
   ]
  },
  {
   "cell_type": "markdown",
   "metadata": {},
   "source": [
    "Verify null values"
   ]
  },
  {
   "cell_type": "code",
   "execution_count": 6,
   "metadata": {},
   "outputs": [
    {
     "data": {
      "text/plain": [
       "isbn13               0\n",
       "isbn10               0\n",
       "title                0\n",
       "subtitle          4429\n",
       "authors             72\n",
       "categories          99\n",
       "thumbnail          329\n",
       "description        262\n",
       "published_year       6\n",
       "average_rating      43\n",
       "num_pages           43\n",
       "ratings_count       43\n",
       "dtype: int64"
      ]
     },
     "execution_count": 6,
     "metadata": {},
     "output_type": "execute_result"
    }
   ],
   "source": [
    "df.isnull().sum()"
   ]
  },
  {
   "cell_type": "markdown",
   "metadata": {},
   "source": [
    "It is going to fill the null values in the columns subtitle, authors, thumbnail, and ratings_count"
   ]
  },
  {
   "cell_type": "code",
   "execution_count": 7,
   "metadata": {},
   "outputs": [],
   "source": [
    "df[['subtitle', 'authors', 'thumbnail', 'ratings_count']] = df[['subtitle', 'authors', 'thumbnail', 'ratings_count']].fillna(\"NA\")"
   ]
  },
  {
   "cell_type": "code",
   "execution_count": 8,
   "metadata": {},
   "outputs": [
    {
     "data": {
      "text/plain": [
       "isbn13              0\n",
       "isbn10              0\n",
       "title               0\n",
       "subtitle            0\n",
       "authors             0\n",
       "categories         99\n",
       "thumbnail           0\n",
       "description       262\n",
       "published_year      6\n",
       "average_rating     43\n",
       "num_pages          43\n",
       "ratings_count       0\n",
       "dtype: int64"
      ]
     },
     "execution_count": 8,
     "metadata": {},
     "output_type": "execute_result"
    }
   ],
   "source": [
    "df.isnull().sum()"
   ]
  },
  {
   "cell_type": "markdown",
   "metadata": {},
   "source": [
    "It is going be deleted the rest of rows with null values, because it doesn't have sense to recommend books without a description, published year, and the rest of features"
   ]
  },
  {
   "cell_type": "code",
   "execution_count": 9,
   "metadata": {},
   "outputs": [],
   "source": [
    "df = df.dropna()\t"
   ]
  },
  {
   "cell_type": "markdown",
   "metadata": {},
   "source": [
    "It is verified the null values"
   ]
  },
  {
   "cell_type": "code",
   "execution_count": 10,
   "metadata": {},
   "outputs": [
    {
     "data": {
      "text/plain": [
       "isbn13            0\n",
       "isbn10            0\n",
       "title             0\n",
       "subtitle          0\n",
       "authors           0\n",
       "categories        0\n",
       "thumbnail         0\n",
       "description       0\n",
       "published_year    0\n",
       "average_rating    0\n",
       "num_pages         0\n",
       "ratings_count     0\n",
       "dtype: int64"
      ]
     },
     "execution_count": 10,
     "metadata": {},
     "output_type": "execute_result"
    }
   ],
   "source": [
    "df.isnull().sum()"
   ]
  },
  {
   "cell_type": "markdown",
   "metadata": {},
   "source": [
    "# Feature Engineering\n",
    "\n",
    "It is going to be cleaned the text, and measure the length of the descriptions. "
   ]
  },
  {
   "cell_type": "markdown",
   "metadata": {},
   "source": [
    "1. Every description is going to be lowercased"
   ]
  },
  {
   "cell_type": "code",
   "execution_count": 11,
   "metadata": {},
   "outputs": [],
   "source": [
    "df[\"description\"] = df[\"description\"].apply(lambda x: x.lower())"
   ]
  },
  {
   "cell_type": "markdown",
   "metadata": {},
   "source": [
    "2. It is going be to created a regex function to clean the text"
   ]
  },
  {
   "cell_type": "code",
   "execution_count": 12,
   "metadata": {},
   "outputs": [],
   "source": [
    "import re"
   ]
  },
  {
   "cell_type": "code",
   "execution_count": 13,
   "metadata": {},
   "outputs": [],
   "source": [
    "def clean_text(text : str) -> str:\n",
    "    \"\"\"\n",
    "    This function cleans a given text by removing new lines, dots, multiple spaces and trailing spaces.\n",
    "\n",
    "    Args:\n",
    "        text (str): text to clean\n",
    "\n",
    "    Returns:\n",
    "        text (str): cleaned text\n",
    "    \"\"\"\n",
    "    text = re.sub(r'\\n', ' ', text)\n",
    "    text = re.sub(r'\\.{3,}', '', text)\n",
    "    text = re.sub(r'([^\\w\\s])\\1{2,}', r'\\1', text)\n",
    "    text = re.sub(r'\\s+', ' ', text)\n",
    "    text = re.sub(r\"#\\s*P\\s*T\\s*#\", \"\", text)\n",
    "    text = re.sub(r\"\\s*#\", \"\", text)\n",
    "    text = text.strip()\n",
    "    return text"
   ]
  },
  {
   "cell_type": "code",
   "execution_count": 14,
   "metadata": {},
   "outputs": [],
   "source": [
    "df[\"description\"] = df[\"description\"].apply(lambda x: clean_text(x))"
   ]
  },
  {
   "cell_type": "markdown",
   "metadata": {},
   "source": [
    "3. It is going to be reviewed if there are duplicated titles"
   ]
  },
  {
   "cell_type": "code",
   "execution_count": 15,
   "metadata": {},
   "outputs": [
    {
     "data": {
      "text/plain": [
       "372"
      ]
     },
     "execution_count": 15,
     "metadata": {},
     "output_type": "execute_result"
    }
   ],
   "source": [
    "df.duplicated(subset=[\"title\"]).sum()"
   ]
  },
  {
   "cell_type": "markdown",
   "metadata": {},
   "source": [
    "Thus, it is going be removed the duplicated titles"
   ]
  },
  {
   "cell_type": "code",
   "execution_count": 16,
   "metadata": {},
   "outputs": [],
   "source": [
    "df = df.drop_duplicates(subset=[\"title\"])"
   ]
  },
  {
   "cell_type": "markdown",
   "metadata": {},
   "source": [
    "4. It is going to be created a column to measure the number of tokens in the text"
   ]
  },
  {
   "cell_type": "code",
   "execution_count": 17,
   "metadata": {},
   "outputs": [],
   "source": [
    "df[\"l_tokens\"] = df[\"description\"].apply(lambda x: len(x.split()))"
   ]
  },
  {
   "cell_type": "code",
   "execution_count": 18,
   "metadata": {},
   "outputs": [],
   "source": [
    "import seaborn as sns"
   ]
  },
  {
   "cell_type": "code",
   "execution_count": 19,
   "metadata": {},
   "outputs": [
    {
     "data": {
      "text/plain": [
       "<Axes: xlabel='l_tokens', ylabel='Count'>"
      ]
     },
     "execution_count": 19,
     "metadata": {},
     "output_type": "execute_result"
    },
    {
     "data": {
      "image/png": "[encoded data removed]",
      "text/plain": [
       "<Figure size 640x480 with 1 Axes>"
      ]
     },
     "metadata": {},
     "output_type": "display_data"
    }
   ],
   "source": [
    "sns.histplot(df[\"l_tokens\"])"
   ]
  },
  {
   "cell_type": "code",
   "execution_count": 20,
   "metadata": {},
   "outputs": [
    {
     "data": {
      "text/plain": [
       "66.81956735496559"
      ]
     },
     "execution_count": 20,
     "metadata": {},
     "output_type": "execute_result"
    }
   ],
   "source": [
    "np.mean(df[\"l_tokens\"])"
   ]
  },
  {
   "cell_type": "code",
   "execution_count": 21,
   "metadata": {},
   "outputs": [
    {
     "data": {
      "text/plain": [
       "66.61365682986315"
      ]
     },
     "execution_count": 21,
     "metadata": {},
     "output_type": "execute_result"
    }
   ],
   "source": [
    "np.std(df[\"l_tokens\"])"
   ]
  },
  {
   "cell_type": "markdown",
   "metadata": {},
   "source": [
    "99% of the data is going to be located between mean +- 3*std"
   ]
  },
  {
   "cell_type": "code",
   "execution_count": 22,
   "metadata": {},
   "outputs": [
    {
     "data": {
      "text/plain": [
       "266.66053784455505"
      ]
     },
     "execution_count": 22,
     "metadata": {},
     "output_type": "execute_result"
    }
   ],
   "source": [
    "np.mean(df[\"l_tokens\"]) + 3*np.std(df[\"l_tokens\"])"
   ]
  },
  {
   "cell_type": "markdown",
   "metadata": {},
   "source": [
    "Thus, this shows that most of the descriptions are going to have until 265 tokens aproximadetly. It has to be used an embedding able to deal with window size context."
   ]
  },
  {
   "cell_type": "markdown",
   "metadata": {},
   "source": [
    "# Embeddings Generation\n",
    "\n",
    "1. It is going to be created a document object from langchain to save the text and the useful metadata."
   ]
  },
  {
   "cell_type": "code",
   "execution_count": 23,
   "metadata": {},
   "outputs": [],
   "source": [
    "from langchain_community.document_loaders import DataFrameLoader"
   ]
  },
  {
   "cell_type": "code",
   "execution_count": 24,
   "metadata": {},
   "outputs": [],
   "source": [
    "df = df.drop([\"thumbnail\", \"ratings_count\", \"l_tokens\"], axis=1)"
   ]
  },
  {
   "cell_type": "code",
   "execution_count": 25,
   "metadata": {},
   "outputs": [],
   "source": [
    "loader = DataFrameLoader(df, page_content_column=\"description\")"
   ]
  },
  {
   "cell_type": "code",
   "execution_count": 26,
   "metadata": {},
   "outputs": [],
   "source": [
    "docs = loader.load()"
   ]
  },
  {
   "cell_type": "markdown",
   "metadata": {},
   "source": [
    "2. It is going to be created some embeddings from the huggingface inference API. \n",
    "\n",
    "The model selected is the ada-002 from openai. This model uses until 8192 tokens, more than this is going to be truncated."
   ]
  },
  {
   "cell_type": "code",
   "execution_count": 27,
   "metadata": {},
   "outputs": [
    {
     "name": "stderr",
     "output_type": "stream",
     "text": [
      "C:\\Users\\sebit\\AppData\\Roaming\\Python\\Python39\\site-packages\\pinecone\\index.py:4: TqdmWarning: IProgress not found. Please update jupyter and ipywidgets. See https://ipywidgets.readthedocs.io/en/stable/user_install.html\n",
      "  from tqdm.autonotebook import tqdm\n"
     ]
    }
   ],
   "source": [
    "import requests\n",
    "from dotenv import load_dotenv\n",
    "import os\n",
    "from langchain.embeddings import OpenAIEmbeddings\n",
    "import pinecone\n",
    "from langchain.vectorstores import Pinecone"
   ]
  },
  {
   "cell_type": "code",
   "execution_count": 28,
   "metadata": {},
   "outputs": [
    {
     "data": {
      "text/plain": [
       "True"
      ]
     },
     "execution_count": 28,
     "metadata": {},
     "output_type": "execute_result"
    }
   ],
   "source": [
    "load_dotenv(\"../.env\")"
   ]
  },
  {
   "cell_type": "code",
   "execution_count": 29,
   "metadata": {},
   "outputs": [
    {
     "name": "stderr",
     "output_type": "stream",
     "text": [
      "C:\\Users\\sebit\\AppData\\Roaming\\Python\\Python39\\site-packages\\langchain_core\\_api\\deprecation.py:117: LangChainDeprecationWarning: The class `langchain_community.embeddings.openai.OpenAIEmbeddings` was deprecated in langchain-community 0.0.9 and will be removed in 0.2.0. An updated version of the class exists in the langchain-openai package and should be used instead. To use it run `pip install -U langchain-openai` and import as `from langchain_openai import OpenAIEmbeddings`.\n",
      "  warn_deprecated(\n"
     ]
    }
   ],
   "source": [
    "embedding = OpenAIEmbeddings(api_key = os.getenv(\"OPENAI_API_KEY\"))"
   ]
  },
  {
   "cell_type": "code",
   "execution_count": 30,
   "metadata": {},
   "outputs": [],
   "source": [
    "pinecone.init(api_key=os.getenv(\"PINECONE_API_KEY\"), environment=os.getenv(\"PINECONE_ENV\"))"
   ]
  },
  {
   "cell_type": "code",
   "execution_count": 31,
   "metadata": {},
   "outputs": [],
   "source": [
    "vector_store = Pinecone.from_existing_index(index_name=\"movies\", embedding=embedding, namespace=\"platzi\")"
   ]
  },
  {
   "cell_type": "code",
   "execution_count": 32,
   "metadata": {},
   "outputs": [],
   "source": [
    "# vector_store.from_documents(index_name=\"movies\", documents=docs, embedding=embedding, namespace=\"platzi\")"
   ]
  },
  {
   "cell_type": "markdown",
   "metadata": {},
   "source": [
    "Test some searches"
   ]
  },
  {
   "cell_type": "code",
   "execution_count": 33,
   "metadata": {},
   "outputs": [],
   "source": [
    "retriever = vector_store.as_retriever(search_kwargs={\"k\": 5})"
   ]
  },
  {
   "cell_type": "code",
   "execution_count": 46,
   "metadata": {},
   "outputs": [
    {
     "data": {
      "text/plain": [
       "['Authors, American',\n",
       " 'Disasters',\n",
       " 'Canada',\n",
       " 'Prisoners of war',\n",
       " 'Cambridge (Mass.)',\n",
       " 'Vietnam War, 1961-1975',\n",
       " 'Humorous stories, English',\n",
       " 'Experimental fiction, American',\n",
       " 'Games & Activities',\n",
       " 'Brothers',\n",
       " 'Philosophy',\n",
       " 'Adult children',\n",
       " 'Divorce',\n",
       " 'Cowboys',\n",
       " 'Literary Collections',\n",
       " 'Jews',\n",
       " 'Adult education',\n",
       " 'Exorcism',\n",
       " 'Death',\n",
       " 'House & Home',\n",
       " 'Divorced people',\n",
       " 'Classical fiction',\n",
       " 'Dent, Arthur (Fictitious character)',\n",
       " 'Elves',\n",
       " 'Curiosities and wonders',\n",
       " 'Sex',\n",
       " 'Behavior',\n",
       " 'People with social disabilities',\n",
       " 'Art',\n",
       " 'Humorous stories, American',\n",
       " 'Ballet',\n",
       " 'Conspiracies',\n",
       " 'Conner, Rainie (Fictitious character)',\n",
       " 'Identity (Psychology)',\n",
       " 'Australia',\n",
       " 'Body, Mind & Spirit',\n",
       " 'Literary Criticism & Collections',\n",
       " 'Nanjing (Jiangsu Sheng, China)',\n",
       " 'Epidemics',\n",
       " 'Juvenile Nonfiction',\n",
       " 'Cookbooks',\n",
       " 'Catholics',\n",
       " 'Short stories',\n",
       " 'Social action',\n",
       " 'Girls',\n",
       " 'Performing Arts',\n",
       " 'Allegories',\n",
       " 'Diary fiction',\n",
       " 'Language and languages',\n",
       " 'Christianity',\n",
       " 'Sex customs',\n",
       " 'College attendance',\n",
       " 'Adjustment (Psychology)',\n",
       " 'Building laws',\n",
       " 'Botanique',\n",
       " 'Stone age',\n",
       " 'Outlaws',\n",
       " 'Humor',\n",
       " 'Confianza en sí mismo',\n",
       " 'Chocolate',\n",
       " 'Cults',\n",
       " 'English language',\n",
       " 'Bail bond agents',\n",
       " 'Cocaine industry',\n",
       " 'Animal sanctuaries',\n",
       " 'African American plantation owners',\n",
       " 'Artists',\n",
       " 'Detective and mystery stories, American',\n",
       " 'Country life',\n",
       " 'Egyptologists',\n",
       " 'Study Aids',\n",
       " 'Black humor (Literature)',\n",
       " 'Black Death',\n",
       " 'Love poetry',\n",
       " 'Greek drama (Tragedy)',\n",
       " 'Botswana',\n",
       " 'Political fiction',\n",
       " 'Literary Criticism',\n",
       " 'Abandoned mines',\n",
       " 'Belgians',\n",
       " \"Children's stories\",\n",
       " '87th Precinct (Imaginary place)',\n",
       " 'Science fiction',\n",
       " 'Amnesty',\n",
       " 'Babytime resource',\n",
       " 'Large print books',\n",
       " 'Beresford, Tommy (Fictitious character)',\n",
       " 'Alternative histories (Fiction)',\n",
       " 'Language Arts & Disciplines',\n",
       " 'Human-alien encounters',\n",
       " 'Man-woman relationships',\n",
       " 'Domestic fiction',\n",
       " 'Otherland (Imaginary place)',\n",
       " 'Men',\n",
       " 'American wit and humor',\n",
       " 'Arabic fiction',\n",
       " 'Amazon River Region',\n",
       " 'Horror tales',\n",
       " 'Hyland, Morn (Fictitious character)',\n",
       " 'Dating (Social customs)',\n",
       " 'Photography',\n",
       " 'True Crime',\n",
       " 'Cellists',\n",
       " 'Atonement',\n",
       " 'French drama',\n",
       " 'Animals, Mythical',\n",
       " 'Poirot, Hercule (Fictitious character)',\n",
       " 'Aged women',\n",
       " 'Bullying',\n",
       " 'Bond, James (Fictitious character)',\n",
       " 'Political leadership',\n",
       " 'Holt, Max (Fictitious character)',\n",
       " 'Queens',\n",
       " 'Indic fiction (English)',\n",
       " 'Japan',\n",
       " 'Political Science',\n",
       " 'Clergy',\n",
       " 'Animal sounds',\n",
       " 'Birds',\n",
       " 'Bracelets',\n",
       " 'Book burning',\n",
       " 'Butlers',\n",
       " 'Crime investigation',\n",
       " 'Alcoholics',\n",
       " 'Shipwrecks',\n",
       " 'Latin poetry',\n",
       " 'Science fiction, English.',\n",
       " 'Mental illness',\n",
       " 'Animals, Treatment of',\n",
       " 'Boys',\n",
       " 'Christmas',\n",
       " \"Children's plays\",\n",
       " 'Rock musicians',\n",
       " 'Transportation',\n",
       " 'City girl',\n",
       " 'Crusades',\n",
       " 'Amnesia',\n",
       " 'Hallucinogenic drugs',\n",
       " 'Crime investigations',\n",
       " 'Trials (Witchcraft)',\n",
       " 'Confucianism',\n",
       " 'Anger',\n",
       " 'Architecture',\n",
       " 'Czech fiction',\n",
       " 'Chick lit',\n",
       " 'Australian fiction',\n",
       " 'African Americans',\n",
       " 'Erinyes (Greek mythology)',\n",
       " 'Fairy tales',\n",
       " 'Czechoslovakia',\n",
       " 'Theology, Doctrinal',\n",
       " 'Pets',\n",
       " 'Marple, Jane (Fictitious character)',\n",
       " 'Family & Relationships',\n",
       " 'Obesity',\n",
       " 'Occult fiction',\n",
       " 'English drama',\n",
       " 'Novelists, English',\n",
       " 'Egypt',\n",
       " 'Dallas, Eve (Fictitious character)',\n",
       " 'Families',\n",
       " 'Medical',\n",
       " 'Zero (The number)',\n",
       " 'Ryan, Jack (Fictitious character)',\n",
       " 'Canterbury (England)',\n",
       " 'Sports & Recreation',\n",
       " 'Antiques & Collectibles',\n",
       " 'Physicists',\n",
       " 'Zoology',\n",
       " 'Ireland',\n",
       " 'American essays',\n",
       " 'American literature',\n",
       " 'Ghost stories, American',\n",
       " \"Children's poetry, American\",\n",
       " 'Mars (Planet)',\n",
       " 'Fantasy fiction',\n",
       " 'Actresses',\n",
       " 'Hitchhiking',\n",
       " 'Africa, East',\n",
       " 'Abused wives',\n",
       " 'Young Adult Fiction',\n",
       " 'Health & Fitness',\n",
       " 'Existential psychotherapy',\n",
       " 'Cancer',\n",
       " 'Apprentices',\n",
       " 'History',\n",
       " 'Illinois',\n",
       " 'Bosnia and Hercegovina',\n",
       " 'Detective and mystery stories, English.',\n",
       " 'Human cloning',\n",
       " 'Ballet dancers',\n",
       " 'Arctic regions',\n",
       " 'Electronic books',\n",
       " 'Igbo (African people)',\n",
       " 'Vice-Presidents',\n",
       " 'Persian Gulf War, 1991',\n",
       " 'Essays',\n",
       " 'Great Britain',\n",
       " 'Design',\n",
       " 'Business & Economics',\n",
       " 'College stories',\n",
       " 'Children of the rich',\n",
       " 'Religion',\n",
       " 'Detective and mystery stories',\n",
       " 'English essays',\n",
       " 'Benedictine monasteries',\n",
       " 'Blind',\n",
       " 'Church work with the poor',\n",
       " 'Emotional problems',\n",
       " 'Auschwitz (Poland : Concentration camp)',\n",
       " 'Boarding schools',\n",
       " 'England',\n",
       " 'Cornwall (England : County)',\n",
       " 'FICTION',\n",
       " 'Juvenile Fiction',\n",
       " 'Spiritual life',\n",
       " 'English fiction',\n",
       " 'Crafts & Hobbies',\n",
       " 'Arithmetic',\n",
       " 'Friendship',\n",
       " 'Aging',\n",
       " 'Amis, Kingsley',\n",
       " 'Yoknapatawpha County (Imaginary place)',\n",
       " 'Games',\n",
       " 'Tobruk, Battles of, 1941-1942',\n",
       " 'Bibles',\n",
       " 'American wit and humor, Pictorial',\n",
       " 'Dreams',\n",
       " 'Motion picture actors and actresses',\n",
       " 'Family life',\n",
       " 'Parenthood',\n",
       " 'Nineteen ninety-eight, A.D.',\n",
       " 'Adventure stories',\n",
       " 'Education',\n",
       " 'Repression (Psychology)',\n",
       " 'Human-animal relationships',\n",
       " 'Aboriginal Australians',\n",
       " 'China',\n",
       " 'Los Angeles (Calif.)',\n",
       " 'Self-Help',\n",
       " 'Actors and actresses',\n",
       " 'Childbirth',\n",
       " 'Cats',\n",
       " 'Authors, German',\n",
       " 'Authors, Italian',\n",
       " 'Existentialism',\n",
       " 'Gay men',\n",
       " 'Short stories, English',\n",
       " 'Children of Holocaust survivors',\n",
       " 'Apartheid',\n",
       " 'Handicapped youth',\n",
       " 'Arthurian romances',\n",
       " 'Surealism',\n",
       " 'Imperialism',\n",
       " 'Babysitters Club (Imaginary organization)',\n",
       " 'United States',\n",
       " 'English poetry',\n",
       " 'Englisch - Geschichte - Lyrik - Aufsatzsammlung',\n",
       " 'Autism',\n",
       " 'Polish poetry',\n",
       " 'Music',\n",
       " 'Comics & Graphic Novels',\n",
       " 'Demonology',\n",
       " 'Contests',\n",
       " 'Archaeological expeditions',\n",
       " 'Motion picture plays',\n",
       " 'Music trade',\n",
       " 'Democracy',\n",
       " 'War',\n",
       " 'Fantasy.',\n",
       " 'Accidents',\n",
       " 'Bible',\n",
       " 'High schools',\n",
       " 'Battle, Superintendent (Fictitious character)',\n",
       " 'Dracula, Count (Fictitious character)',\n",
       " 'College teachers',\n",
       " 'Dragons',\n",
       " 'Aeronautics',\n",
       " 'Fantasy',\n",
       " 'Cooking, French',\n",
       " 'Bus travel',\n",
       " 'Folklore',\n",
       " 'Literature',\n",
       " 'Reducing diets',\n",
       " 'Business enterprises',\n",
       " 'Adventure fiction',\n",
       " 'Costume',\n",
       " \"Partition of decedents' estates\",\n",
       " 'Alanna (Fictitious character : Pierce)',\n",
       " 'Christian life',\n",
       " 'Christmas stories',\n",
       " 'Law',\n",
       " 'Meditation',\n",
       " 'Eretz Israel',\n",
       " 'Adolescence',\n",
       " 'European fiction',\n",
       " 'Business women',\n",
       " 'Bumppo, Natty (Fictitious character)',\n",
       " 'Conduct of life',\n",
       " 'Electrons',\n",
       " 'Television',\n",
       " 'Mathematicians',\n",
       " 'Boarding school-fiction',\n",
       " 'Escapes',\n",
       " 'Ballets',\n",
       " 'Nature',\n",
       " 'Psycho (Motion picture : 1960)',\n",
       " 'Aeneas (Legendary character)',\n",
       " 'Science fiction, American',\n",
       " 'Badgers',\n",
       " 'Candy',\n",
       " 'Friendship in adolescence',\n",
       " 'World War, 1914-1918',\n",
       " 'Audiobooks',\n",
       " 'Gangs',\n",
       " 'Acting',\n",
       " 'Minimal brain dysfunction in children',\n",
       " 'Continental Op (Fictitious character)',\n",
       " 'Interplanetary voyages',\n",
       " 'Children of divorced parents',\n",
       " 'Travel',\n",
       " 'Chrestomanci (Fictitious character)',\n",
       " 'Computers',\n",
       " 'Comedy',\n",
       " 'Authors, Canadian',\n",
       " 'Kyoto (Japan)',\n",
       " 'Gardens',\n",
       " 'Authors',\n",
       " 'Dysfunctional families',\n",
       " 'Humorous stories',\n",
       " 'Imaginary wars and battles',\n",
       " 'Adventure stories, English',\n",
       " 'Boston (Mass.)',\n",
       " 'Organized Crime',\n",
       " 'Physics',\n",
       " 'Lecter, Hannibal (Fictitious character)',\n",
       " 'Ghost stories',\n",
       " 'Criminals',\n",
       " 'Actors',\n",
       " 'Antislavery movements',\n",
       " 'Male friendship',\n",
       " 'Alienation (Social psychology)',\n",
       " 'Albigenses',\n",
       " 'Espionage',\n",
       " 'Sea monsters',\n",
       " 'Germany',\n",
       " 'JUVENILE FICTION',\n",
       " 'African Americans in radio broadcasting',\n",
       " 'Novelists, American',\n",
       " 'Bedtime',\n",
       " 'Astronomers',\n",
       " 'Antisemitism',\n",
       " 'Intelligence service',\n",
       " 'City and town life',\n",
       " 'Mathematics',\n",
       " 'Bombings',\n",
       " 'Antiheroes',\n",
       " 'Poetry',\n",
       " 'Foreign Language Study',\n",
       " 'Film producers and directors',\n",
       " 'Political science',\n",
       " 'London (England)',\n",
       " 'Civil law',\n",
       " 'Community life',\n",
       " 'Psychoanalysis and religion',\n",
       " 'Slave insurrections',\n",
       " 'Baggins, Bilbo (Fictitious character)',\n",
       " 'Science',\n",
       " 'Diaries',\n",
       " 'Computer programmers',\n",
       " 'Capitalism',\n",
       " 'Inventions',\n",
       " 'Poets, American',\n",
       " 'Horror',\n",
       " 'Fiction',\n",
       " 'Love',\n",
       " 'Businessmen',\n",
       " 'Comic books, strips, etc',\n",
       " 'Cabrillo, Juan (Fictitious character)',\n",
       " 'Cosmology',\n",
       " 'Blake, Anita (Fictitious character)',\n",
       " 'India',\n",
       " 'Detective and mystery stories, English',\n",
       " 'Science fiction, English',\n",
       " 'Cookery',\n",
       " 'Fairy tales, English',\n",
       " 'Assassins',\n",
       " 'Heroes',\n",
       " 'Baggins, Frodo (Fictitious character)',\n",
       " 'Seduction',\n",
       " 'Apartments',\n",
       " 'Amish',\n",
       " 'BIOGRAPHY & AUTOBIOGRAPHY',\n",
       " 'Dominican Republic',\n",
       " 'American Wit And Humour',\n",
       " 'Divorced women',\n",
       " 'Technology & Engineering',\n",
       " 'Conan (Fictitious character)',\n",
       " 'Historical fiction',\n",
       " 'Galicia (Spain : Region)',\n",
       " 'Murder',\n",
       " 'Adultery',\n",
       " 'Books',\n",
       " 'American fiction',\n",
       " 'Family',\n",
       " 'Agriculture',\n",
       " 'Married people',\n",
       " 'Paris (France)',\n",
       " 'Estados Unidos - Relaciones exteriores - 1945-1989',\n",
       " 'Catholic women',\n",
       " 'Austria',\n",
       " 'Amour - Ouvrages avant 1800',\n",
       " 'Mothers and sons',\n",
       " 'Animals',\n",
       " 'Brothers and sisters',\n",
       " 'Communication in families',\n",
       " 'Amyotrophic lateral sclerosis',\n",
       " 'Horror stories',\n",
       " 'Adirondack Mountains (N.Y.)',\n",
       " 'Misogyny',\n",
       " 'Cities and towns',\n",
       " 'France',\n",
       " 'Aubrey, Jack (Fictitious character)',\n",
       " 'Little, Stuart (Fictitious character)',\n",
       " 'Americans',\n",
       " 'Female friendship',\n",
       " 'Social Science',\n",
       " 'Canadian wit and humor',\n",
       " 'Photographers',\n",
       " 'Businesswomen',\n",
       " 'Psychology',\n",
       " 'Authors, Cuban',\n",
       " 'Christian saints',\n",
       " 'Life on other planets',\n",
       " 'History, Modern',\n",
       " 'Feature films [DVD]',\n",
       " 'New England',\n",
       " 'Dead',\n",
       " 'New York (State)',\n",
       " 'Bosnia and Herzegovina',\n",
       " 'Aircraft accidents',\n",
       " 'Authors, Arab',\n",
       " 'Insane, Criminal and dangerous',\n",
       " 'Pigeons',\n",
       " 'Detective and mystery comic books, strips, etc',\n",
       " 'Art museum curators',\n",
       " 'Grandmothers',\n",
       " 'Horror stories.',\n",
       " 'Czech Republic',\n",
       " 'Dublin (Ireland)',\n",
       " 'Mormon fundamentalism',\n",
       " 'Short stories, American',\n",
       " 'Biography & Autobiography',\n",
       " 'Gardening',\n",
       " 'Explorers',\n",
       " 'Blacks',\n",
       " 'Caterpillars',\n",
       " 'Horror tales, American',\n",
       " 'Teenagers',\n",
       " 'Graphic novels',\n",
       " 'Authors, English',\n",
       " 'Drama',\n",
       " 'Banks and banking, British',\n",
       " 'Autonomy (Psychology).',\n",
       " 'Sexual behavior surveys',\n",
       " 'Computer science',\n",
       " 'Brewing',\n",
       " 'Azerbaijan',\n",
       " 'Drenai (Imaginary place)',\n",
       " 'Women terrorists',\n",
       " 'Magic',\n",
       " 'Buddhism',\n",
       " 'Discworld (Imaginary place)',\n",
       " 'Reference',\n",
       " 'Black market',\n",
       " \"Children's stories, English\",\n",
       " 'African American men',\n",
       " 'Labrador retriever',\n",
       " 'Experimental fiction',\n",
       " 'Fantasy fiction, American',\n",
       " 'Christian fiction',\n",
       " 'British',\n",
       " 'Beowulf',\n",
       " 'Cooking',\n",
       " 'Air pilots',\n",
       " 'Alcestis (Greek mythology)',\n",
       " 'Consumer behavior',\n",
       " 'Dangerously mentally ill',\n",
       " 'Defectors',\n",
       " 'Cosmetics industry',\n",
       " 'Adventure stories, American',\n",
       " 'English',\n",
       " 'American poetry',\n",
       " 'Finance, Personal',\n",
       " 'Human behavior',\n",
       " 'Cerebrovascular disease',\n",
       " 'Europe',\n",
       " 'Courtship',\n",
       " 'Apartment houses',\n",
       " 'Poets, Chilean']"
      ]
     },
     "execution_count": 46,
     "metadata": {},
     "output_type": "execute_result"
    }
   ],
   "source": [
    "list(set(df[\"categories\"]))"
   ]
  },
  {
   "cell_type": "code",
   "execution_count": 34,
   "metadata": {},
   "outputs": [],
   "source": [
    "text_test = \"Hobbits, a race of small humanlike creatures, characteristically value peace, simplicity, and cozy homes yet are capable of incredible feats of courage and resourcefulness. The unwilling hero of The Hobbit, Bilbo Baggins, is persuaded by the wizard Gandalf to leave his village, Hobbiton, and join Thorin and his 12 dwarfs to recover their stolen treasure, which is being guarded by the dragon Smaug. During the expedition, Bilbo finds a magical ring that renders the wearer invisible, which figures prominently in The Lord of the Rings, a novel originally published in three parts that followed in 1954−55. When Bilbo and Gandalf return to Hobbiton, Bilbo is no longer accepted, his adventurous behavior being deemed unhobbitlike. The Hobbit is the story of Bilbo’s maturing from a seeker of warmth and comforts to a fighter, however humble, for the greater good. He proves to be an unlikely hero who achieves metamorphosis through pools of inner strength he did not know he possessed.\""
   ]
  },
  {
   "cell_type": "code",
   "execution_count": 39,
   "metadata": {},
   "outputs": [],
   "source": [
    "a = retriever.get_relevant_documents(text_test, metadata={\"categories\": \"Fiction\"})"
   ]
  },
  {
   "cell_type": "code",
   "execution_count": 45,
   "metadata": {},
   "outputs": [
    {
     "data": {
      "text/plain": [
       "dict_keys(['authors', 'average_rating', 'categories', 'isbn10', 'isbn13', 'num_pages', 'published_year', 'subtitle', 'title'])"
      ]
     },
     "execution_count": 45,
     "metadata": {},
     "output_type": "execute_result"
    }
   ],
   "source": [
    "a[0].metadata.keys()"
   ]
  },
  {
   "cell_type": "code",
   "execution_count": 49,
   "metadata": {},
   "outputs": [
    {
     "name": "stdout",
     "output_type": "stream",
     "text": [
      "Name: tiktoken\n",
      "Version: 0.5.2\n",
      "Summary: tiktoken is a fast BPE tokeniser for use with OpenAI's models\n",
      "Home-page: \n",
      "Author: Shantanu Jain\n",
      "Author-email: shantanu@openai.com\n",
      "License: MIT License\n",
      "        \n",
      "        Copyright (c) 2022 OpenAI, Shantanu Jain\n",
      "        \n",
      "        Permission is hereby granted, free of charge, to any person obtaining a copy\n",
      "        of this software and associated documentation files (the \"Software\"), to deal\n",
      "        in the Software without restriction, including without limitation the rights\n",
      "        to use, copy, modify, merge, publish, distribute, sublicense, and/or sell\n",
      "        copies of the Software, and to permit persons to whom the Software is\n",
      "        furnished to do so, subject to the following conditions:\n",
      "        \n",
      "        The above copyright notice and this permission notice shall be included in all\n",
      "        copies or substantial portions of the Software.\n",
      "        \n",
      "        THE SOFTWARE IS PROVIDED \"AS IS\", WITHOUT WARRANTY OF ANY KIND, EXPRESS OR\n",
      "        IMPLIED, INCLUDING BUT NOT LIMITED TO THE WARRANTIES OF MERCHANTABILITY,\n",
      "        FITNESS FOR A PARTICULAR PURPOSE AND NONINFRINGEMENT. IN NO EVENT SHALL THE\n",
      "        AUTHORS OR COPYRIGHT HOLDERS BE LIABLE FOR ANY CLAIM, DAMAGES OR OTHER\n",
      "        LIABILITY, WHETHER IN AN ACTION OF CONTRACT, TORT OR OTHERWISE, ARISING FROM,\n",
      "        OUT OF OR IN CONNECTION WITH THE SOFTWARE OR THE USE OR OTHER DEALINGS IN THE\n",
      "        SOFTWARE.\n",
      "        \n",
      "Location: c:\\users\\sebit\\appdata\\roaming\\python\\python39\\site-packages\n",
      "Requires: regex, requests\n",
      "Required-by: \n"
     ]
    }
   ],
   "source": [
    "!pip show tiktoken"
   ]
  },
  {
   "cell_type": "code",
   "execution_count": null,
   "metadata": {},
   "outputs": [],
   "source": []
  }
 ],
 "metadata": {
  "kernelspec": {
   "display_name": "openai",
   "language": "python",
   "name": "python3"
  },
  "language_info": {
   "codemirror_mode": {
    "name": "ipython",
    "version": 3
   },
   "file_extension": ".py",
   "mimetype": "text/x-python",
   "name": "python",
   "nbconvert_exporter": "python",
   "pygments_lexer": "ipython3",
   "version": "3.9.18"
  }
 },
 "nbformat": 4,
 "nbformat_minor": 2
}
